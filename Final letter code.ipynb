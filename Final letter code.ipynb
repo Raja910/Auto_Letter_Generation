{
 "cells": [
  {
   "cell_type": "code",
   "execution_count": 1,
   "metadata": {},
   "outputs": [
    {
     "name": "stdout",
     "output_type": "stream",
     "text": [
      "Enter\n",
      "'1/2' For halfday Leave\n",
      "'1' for Oneday Leave\n",
      "How many no.of days leave required:\n",
      "1\n",
      "Enter your name:\traja\n",
      "\n",
      "Enter branch-year section(example:CSE-3A):\tadrae\n",
      "\n",
      "Enter date of leave in format dd-mm-yyyy:\traja\n",
      "\n",
      "To whom Letter is written:\takda\n",
      "\n",
      "Enter Reason in sentence:\tleave\n",
      "Letter is saved in Desktop with file name of 'Letter6sl'\n"
     ]
    }
   ],
   "source": [
    "import datetime\n",
    "import docx\n",
    "import string,random\n",
    "letno=''.join(random.sample(string.digits,1)+random.sample(string.ascii_letters,2))\n",
    "from docx.shared import Pt\n",
    "doc= docx.Document()\n",
    "doc.add_heading('                            Letter',0)\n",
    "today=\"-\".join(str(i) for i in [datetime.date.today().day,  datetime.date.today().month, datetime.date.today().year])\n",
    "\n",
    "def hod(p):\n",
    "    ndl=p\n",
    "    name=input('Enter your name:\\t').capitalize()\n",
    "    cls=input(\"\\nEnter branch-year section(example:CSE-3A):\\t\").upper()\n",
    "    date=input('\\nEnter date of leave in format dd-mm-yyyy:\\t')\n",
    "    to=input('\\nTo whom Letter is written:\\t').upper()\n",
    "    Reason=input('\\nEnter Reason in sentence:\\t').capitalize()\n",
    "    return f'''\n",
    "    To\n",
    "    {to}\n",
    "    {cls}\n",
    "    MRCET\n",
    "    \n",
    "    Dear Sir/Madam;\n",
    "                I am {name} from {cls}. The reason for this letter is than I need a permission for leave for {ndl} day because {Reason}.I will not be able to attend classes on {date}. So, please accept my request and kindly grant me permission.\n",
    "\n",
    "    Thanking you,\n",
    "    Yours Obediently,\n",
    "    {name}\n",
    "\n",
    "\n",
    "    signature\n",
    "    {today}'''\n",
    "    \n",
    "    \n",
    "    \n",
    "def mod(p):\n",
    "    ndl=p\n",
    "    name=input('Enter your name:\\t').capitalize()\n",
    "    cls=input(\"\\nEnter branch-year section(example:CSE-3A):\\t\").upper()\n",
    "    sd=input('\\nEnter date from when leave is required in format dd-mm-yyyy:\\t')\n",
    "    k=[int(i) for i in sd.split('-')]\n",
    "    ed=\"-\".join([str(k.pop(0)+int(ndl)-1)]+[str(i) for i in k])\n",
    "    to=input('\\nTo whom Letter is written:\\t').upper()\n",
    "    Reason=input('\\nEnter Reason in sentence:\\t').capitalize()\n",
    "    return f'''\n",
    "        TO\n",
    "        {to}\n",
    "        {cls}\n",
    "        MRCET\n",
    "        \n",
    "        Dear sir/Madam;\n",
    "                I am {name} from {cls}. The reason for this letter is than I need a permission for leave for {ndl} days because {Reason}. I will not be able to attend classes from {sd} to {ed}. So, please accept my request an kindly grant me permission.\n",
    "Thanking you,\n",
    "Your Obediently,\n",
    "{name}\n",
    "\n",
    "\n",
    "signature\n",
    "{today}'''\n",
    "    \n",
    "    \n",
    "    \n",
    "ndl=input(\"Enter\\n'1/2' For halfday Leave\\n'1' for Oneday Leave\\nHow many no.of days leave required:\\n\")\n",
    "if ndl=='1/2'or ndl=='1':\n",
    "    m=hod(ndl)\n",
    "elif int(ndl) in [*range(2,31)]:\n",
    "    m=mod(ndl)\n",
    "else:\n",
    "    print(\"Plz Check inputs according to instructions and Enter again\")\n",
    "    \n",
    "par = doc.add_paragraph().add_run(m)  \n",
    "par.font.size=Pt(20)\n",
    "doc.save(f'''C:\\\\Users\\ASUS\\Desktop\\Letter{letno}.docx''')\n",
    "print(f\"Letter is saved in Desktop with file name of 'Letter{letno}'\")"
   ]
  },
  {
   "cell_type": "code",
   "execution_count": 2,
   "metadata": {},
   "outputs": [
    {
     "name": "stdout",
     "output_type": "stream",
     "text": [
      "True\n"
     ]
    }
   ],
   "source": [
    "ndl ='1/2'\n",
    "p = '1/2'\n",
    "q = '1'\n",
    "if ndl=='1/2' or ndl=='1':\n",
    "    print(True)"
   ]
  },
  {
   "cell_type": "code",
   "execution_count": 3,
   "metadata": {},
   "outputs": [
    {
     "name": "stdout",
     "output_type": "stream",
     "text": [
      "True\n"
     ]
    }
   ],
   "source": [
    "if ndl==p or ndl==q:\n",
    "    print(True)"
   ]
  },
  {
   "cell_type": "code",
   "execution_count": null,
   "metadata": {},
   "outputs": [],
   "source": []
  },
  {
   "cell_type": "code",
   "execution_count": null,
   "metadata": {},
   "outputs": [],
   "source": []
  }
 ],
 "metadata": {
  "kernelspec": {
   "display_name": "Python 3",
   "language": "python",
   "name": "python3"
  },
  "language_info": {
   "codemirror_mode": {
    "name": "ipython",
    "version": 3
   },
   "file_extension": ".py",
   "mimetype": "text/x-python",
   "name": "python",
   "nbconvert_exporter": "python",
   "pygments_lexer": "ipython3",
   "version": "3.8.5"
  }
 },
 "nbformat": 4,
 "nbformat_minor": 4
}
