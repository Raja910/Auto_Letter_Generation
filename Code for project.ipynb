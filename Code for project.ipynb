{
 "cells": [
  {
   "cell_type": "markdown",
   "metadata": {},
   "source": [
    "# *Printing Required Letters/Using Pre-Defined Letters*"
   ]
  },
  {
   "cell_type": "code",
   "execution_count": 3,
   "metadata": {},
   "outputs": [
    {
     "name": "stdout",
     "output_type": "stream",
     "text": [
      "Enter one option from below\n",
      "1 for Leave Letter\n",
      "2 for Letter for other permission\n",
      "1\n",
      "\n",
      "Enter choice of permission from below permission for\n",
      "a.Half Day\n",
      "b.One Day\n",
      "c.More than a Day\n",
      "a\n",
      "Enter your name:\traja\n",
      "Enter your Branch and Section:\tcse3a\n",
      "Enter your Reason:\n",
      "sufferening from fever\n",
      "\n",
      "    TO\n",
      "    The class Teacher\n",
      "    cse3a\n",
      "    \n",
      "    Dear Sir/Madam,\n",
      "            sufferening from fever.\n",
      "        Please accept my request and kindly grant leave for a half day\n",
      "    \n",
      "    \n",
      "    Thank you\n",
      "     \n",
      "    Yours Obediently,\n",
      "    \n",
      "    signature\n",
      "    16-10-2021\n",
      "    \n"
     ]
    }
   ],
   "source": [
    "import datetime\n",
    "def halfdayletter():\n",
    "    name=input(\"Enter your name:\\t\")\n",
    "    clas=input(\"Enter your Branch and Section:\\t\")\n",
    "    #college=input('Enter college name:\\t')\n",
    "    r=input(\"Enter your Reason:\\n\")\n",
    "    return f'''\n",
    "    TO\n",
    "    The class Teacher\n",
    "    {clas}\n",
    "    \n",
    "    Dear Sir/Madam,\n",
    "            {r}.\n",
    "        Please accept my request and kindly grant leave for a half day\n",
    "    \n",
    "    \n",
    "    Thank you\n",
    "     \n",
    "    Yours Obediently,\n",
    "    \n",
    "    signature\n",
    "    {today}\n",
    "    '''\n",
    "today=\"-\".join(str(i) for i in [datetime.date.today().day,  datetime.date.today().month, datetime.date.today().year])\n",
    "print('Enter one option from below\\n1 for Leave Letter\\n2 for Letter for other permission')\n",
    "n= int(input())\n",
    "if(n==1):\n",
    "    print('\\nEnter choice of permission from below permission for\\na.Half Day\\nb.One Day\\nc.More than a Day')\n",
    "    t = input()\n",
    "    if(t=='a'):\n",
    "        c1=halfdayletter()\n",
    "        print(c1)\n",
    "    else:\n",
    "        print(\"Check again an enter a valid Input\")\n"
   ]
  },
  {
   "cell_type": "code",
   "execution_count": 4,
   "metadata": {},
   "outputs": [],
   "source": [
    "import docx\n",
    "from docx.shared import Pt\n",
    "\n",
    "doc= docx.Document()\n",
    "doc.add_heading('                            Letter',0)\n",
    "\n",
    "par = doc.add_paragraph().add_run(c1)\n",
    "par.font.size=Pt(20)\n",
    "doc.save('C:\\\\Users\\ASUS\\Desktop\\Letter.docx')"
   ]
  },
  {
   "cell_type": "code",
   "execution_count": null,
   "metadata": {},
   "outputs": [],
   "source": []
  },
  {
   "cell_type": "code",
   "execution_count": 3,
   "metadata": {},
   "outputs": [
    {
     "name": "stdout",
     "output_type": "stream",
     "text": [
      "\n",
      "this is equal\n",
      "to a \n",
      "=\n",
      "5\n"
     ]
    }
   ],
   "source": [
    "a = 5\n",
    "print(f'''\n",
    "this is equal\n",
    "to a \n",
    "=\n",
    "{a}''')"
   ]
  },
  {
   "cell_type": "code",
   "execution_count": 60,
   "metadata": {},
   "outputs": [
    {
     "name": "stdout",
     "output_type": "stream",
     "text": [
      "2021-10-13\n",
      "3025-12-23\n",
      "<class 'str'>\n"
     ]
    }
   ],
   "source": [
    "import datetime\n",
    "k=datetime.date.today()\n",
    "t=[k.day,k.month,k.year]\n",
    "t\n",
    "print(datetime.date.today())\n",
    "t2=datetime.date(3025,12,23)\n",
    "print(t2)\n",
    "print(type(str(t2)))"
   ]
  },
  {
   "cell_type": "code",
   "execution_count": 69,
   "metadata": {},
   "outputs": [
    {
     "data": {
      "text/plain": [
       "'13-10-2021'"
      ]
     },
     "execution_count": 69,
     "metadata": {},
     "output_type": "execute_result"
    }
   ],
   "source": [
    "\"-\".join(str(i) for i in [datetime.date.today().day,datetime.date.today().month,datetime.date.today().year])"
   ]
  },
  {
   "cell_type": "code",
   "execution_count": 68,
   "metadata": {},
   "outputs": [
    {
     "data": {
      "text/plain": [
       "2021"
      ]
     },
     "execution_count": 68,
     "metadata": {},
     "output_type": "execute_result"
    }
   ],
   "source": [
    "datetime.date.today().year"
   ]
  },
  {
   "cell_type": "code",
   "execution_count": 101,
   "metadata": {},
   "outputs": [],
   "source": [
    "# Import docx NOT python-docx\n",
    "import docx\n",
    "\n",
    "# Create an instance of a word document\n",
    "doc = docx.Document()\n",
    "\n",
    "# Now save the document to a location\n",
    "doc.save('C:\\\\Users\\ASUS\\Desktop\\pydoc3.docx')"
   ]
  },
  {
   "cell_type": "code",
   "execution_count": 84,
   "metadata": {},
   "outputs": [
    {
     "name": "stdout",
     "output_type": "stream",
     "text": [
      "Collecting python-docx\n",
      "  Downloading python-docx-0.8.11.tar.gz (5.6 MB)\n",
      "Requirement already satisfied: lxml>=2.3.2 in c:\\users\\asus\\anaconda3\\lib\\site-packages (from python-docx) (4.6.1)\n",
      "Building wheels for collected packages: python-docx\n",
      "  Building wheel for python-docx (setup.py): started\n",
      "  Building wheel for python-docx (setup.py): finished with status 'done'\n",
      "  Created wheel for python-docx: filename=python_docx-0.8.11-py3-none-any.whl size=184605 sha256=8a69f2d3d5cdca4b4af6f1c6c0c599105682752c5645a9be364e7a07f5c9a60f\n",
      "  Stored in directory: c:\\users\\asus\\appdata\\local\\pip\\cache\\wheels\\32\\b8\\b2\\c4c2b95765e615fe139b0b17b5ea7c0e1b6519b0a9ec8fb34d\n",
      "Successfully built python-docx\n",
      "Installing collected packages: python-docx\n",
      "Successfully installed python-docx-0.8.11\n"
     ]
    }
   ],
   "source": [
    "!pip install python-docx"
   ]
  },
  {
   "cell_type": "code",
   "execution_count": 87,
   "metadata": {},
   "outputs": [],
   "source": [
    "import docx"
   ]
  },
  {
   "cell_type": "code",
   "execution_count": 97,
   "metadata": {},
   "outputs": [
    {
     "data": {
      "text/plain": [
       "('31-01-1202', '2021-10-13')"
      ]
     },
     "execution_count": 97,
     "metadata": {},
     "output_type": "execute_result"
    }
   ],
   "source": [
    "import datetime\n",
    "k=str(datetime.date.today())\n",
    "k[::-1],k"
   ]
  },
  {
   "cell_type": "code",
   "execution_count": null,
   "metadata": {},
   "outputs": [],
   "source": []
  },
  {
   "cell_type": "markdown",
   "metadata": {},
   "source": [
    "# Yashaswini Code"
   ]
  },
  {
   "cell_type": "code",
   "execution_count": 1,
   "metadata": {},
   "outputs": [
    {
     "name": "stdout",
     "output_type": "stream",
     "text": [
      "Choose type of letter to be generated\n",
      "1 for Leave Letter\n",
      "2 for permission to attend/start an event\n",
      "1\n",
      "ur name?:\tRaja\n",
      "year of study(I/II/III/IV)?:\t2\n",
      "ur Branch:CSE\n",
      "section:\t3A\n",
      "ur rollno:\t527\n",
      "Whom r u writing this letter to?\tCLASS TEACHER\n",
      "choose which category ur reason falls:\n",
      "1 for sick leave\n",
      "2. attend ceremonies\n",
      "1\n",
      "input ur reason(fever/cough):\tFEVER\n",
      "no. of days applying for?1\n",
      "\n",
      "        From\n",
      "        Raja\n",
      "        CSE\n",
      "        MRCET\n",
      "\n",
      "        TO\n",
      "        CLASS TEACHER\n",
      "        CSE\n",
      "        MRCET\n",
      "\n",
      "        Dear Sir/Madam,\n",
      "                I Raja studying in 2-CSE-3A having roll number 527 am suffering from FEVER.\n",
      "        I will not be able to attend the classes for 1 days. Please accept this request and kindly grant me leave.\n",
      "\n",
      "        I am hopeful that you accept my request and sanction me the leaves. \n",
      "\n",
      "        Thanking you,\n",
      "        Yours Obediently,\n",
      "        Raja\n",
      "\n",
      "        signature\n",
      "        16-10-2021\n",
      "        \n"
     ]
    }
   ],
   "source": [
    "import datetime\n",
    "today=\"-\".join(str(i) for i in [datetime.date.today().day,  datetime.date.today().month, datetime.date.today().year])\n",
    "print('Choose type of letter to be generated\\n1 for Leave Letter\\n2 for permission to attend/start an event')\n",
    "n= int(input())\n",
    "\n",
    "def leaveletter():\n",
    "    name = input(\"ur name?:\\t\").capitalize()\n",
    "    year = input(\"year of study(I/II/III/IV)?:\\t\").upper()\n",
    "    clas = input(\"ur Branch:\").upper()\n",
    "    sec = input(\"section:\\t\").upper()\n",
    "    rollno = input(\"ur rollno:\\t\").upper()\n",
    "    letterTo = input(\"Whom r u writing this letter to?\\t\").upper()\n",
    "    r1=int(input(\"choose which category ur reason falls:\\n1 for sick leave\\n2. attend ceremonies\\n\"))\n",
    "    if r1 == 1:\n",
    "        r = input(\"input ur reason(fever/cough):\\t\")\n",
    "    elif r1 == 2:\n",
    "        r = input(\"input ur reason(sister's marriage/grandfather's death anniversary...):\\t\")\n",
    "    days = int(input(\"no. of days applying for?\"))\n",
    "    if r1 == 1:\n",
    "        print(f'''\n",
    "        From\n",
    "        {name}\n",
    "        {clas}\n",
    "        MRCET\n",
    "\n",
    "        TO\n",
    "        {letterTo}\n",
    "        {clas}\n",
    "        MRCET\n",
    "\n",
    "        Dear Sir/Madam,\n",
    "                I {name} studying in {year}-{clas}-{sec} having roll number {rollno} am suffering from {r}.\n",
    "        I will not be able to attend the classes for {days} days. Please accept this request and kindly grant me leave.\\n\n",
    "        I am hopeful that you accept my request and sanction me the leaves. \n",
    "\n",
    "        Thanking you,\n",
    "        Yours Obediently,\n",
    "        {name}\n",
    "\n",
    "        signature\n",
    "        {today}\n",
    "        ''')\n",
    "    elif r1 == 2:\n",
    "        fromwhen = input(\"from which Date do u need leave?\")\n",
    "        print(f'''\n",
    "        From\n",
    "        {name}\n",
    "        {clas}\n",
    "        MRCET\n",
    "\n",
    "        TO\n",
    "        {letterTo}\n",
    "        {clas}\n",
    "        MRCET\n",
    "\n",
    "        Dear Sir/Madam,\n",
    "                I am {name} studying in {year}-{clas}-{sec} having roll number {rollno}.I need to attend my {r} from \n",
    "        {fromwhen} for {days} days. So, I will not be able to attend the classes for {days} days. Please accept this\n",
    "        request and kindly grant me leave.\\n\n",
    "        I am hopeful that you accept my request and sanction me the leaves. \n",
    "\n",
    "        Thanking you,\n",
    "        Yours Obediently,\n",
    "        {name}\n",
    "\n",
    "        signature\n",
    "        {today}\n",
    "        ''')\n",
    "def permission():\n",
    "    name = input(\"ur name?:\\t\").upper()\n",
    "    year = input(\"year of study(I/II/III/IV)?:\\t\").upper()\n",
    "    clas = input(\"ur Branch and Section?:\\t\").upper()\n",
    "    letterTo = input(\"Whom r u writing this letter to?\\t\").upper()\n",
    "    r1=int(input(\"choose which category ur reason falls:\\n1. start a club\\n2. attend workshop\\n3. internship\\n4.other \\n\"))\n",
    "    if r1 == 4:\n",
    "        r1=input(\"Enter ur reason:\")\n",
    "    d = input(\"Enter no. of days\")\n",
    "    print(f'''\n",
    "    From\n",
    "    {name}\n",
    "    {clas}\n",
    "    MRCET\n",
    "    \n",
    "    TO\n",
    "    {letterTo}\n",
    "    {clas}\n",
    "    MRCET\n",
    "    \n",
    "    Dear Sir/Madam,\n",
    "            {r1}.\\n\n",
    "        Please acce\n",
    "    \n",
    "    Thank you\n",
    "     \n",
    "    Yours Obediently,\n",
    "    \n",
    "    signature\n",
    "    {today}\n",
    "    ''')\n",
    "if n == 1:\n",
    "    leaveletter()\n",
    "elif n == 2:\n",
    "    permission()\n",
    "else:\n",
    "    print(\"Check again and enter a valid Input\")"
   ]
  },
  {
   "cell_type": "code",
   "execution_count": 15,
   "metadata": {},
   "outputs": [
    {
     "data": {
      "text/plain": [
       "str"
      ]
     },
     "execution_count": 15,
     "metadata": {},
     "output_type": "execute_result"
    }
   ],
   "source": [
    "type(c1)"
   ]
  },
  {
   "cell_type": "code",
   "execution_count": 23,
   "metadata": {},
   "outputs": [
    {
     "name": "stdout",
     "output_type": "stream",
     "text": [
      "\n",
      "    TO\n",
      "    The class Teacher\n",
      "    cse-3a\n",
      "    \n",
      "    Dear Sir/Madam,\n",
      "            As I have fever I am not feeling well so,I want to go to home.\n",
      "        Please accept my request and kindly grant leave for a half day\n",
      "    \n",
      "    \n",
      "    Thank you\n",
      "     \n",
      "    Yours Obediently,\n",
      "    \n",
      "    signature\n",
      "    16-10-2021\n",
      "    \n"
     ]
    }
   ],
   "source": [
    "print(c1)"
   ]
  },
  {
   "cell_type": "code",
   "execution_count": 24,
   "metadata": {},
   "outputs": [
    {
     "name": "stdout",
     "output_type": "stream",
     "text": [
      "Help on package docx:\n",
      "\n",
      "NAME\n",
      "    docx - # encoding: utf-8\n",
      "\n",
      "PACKAGE CONTENTS\n",
      "    api\n",
      "    blkcntnr\n",
      "    compat\n",
      "    dml (package)\n",
      "    document\n",
      "    enum (package)\n",
      "    exceptions\n",
      "    image (package)\n",
      "    opc (package)\n",
      "    oxml (package)\n",
      "    package\n",
      "    parts (package)\n",
      "    section\n",
      "    settings\n",
      "    shape\n",
      "    shared\n",
      "    styles (package)\n",
      "    table\n",
      "    text (package)\n",
      "\n",
      "VERSION\n",
      "    0.8.11\n",
      "\n",
      "FILE\n",
      "    c:\\users\\asus\\anaconda3\\lib\\site-packages\\docx\\__init__.py\n",
      "\n",
      "\n"
     ]
    }
   ],
   "source": [
    "help(docx)"
   ]
  },
  {
   "cell_type": "code",
   "execution_count": null,
   "metadata": {},
   "outputs": [],
   "source": []
  },
  {
   "cell_type": "markdown",
   "metadata": {},
   "source": [
    "# kAVYA CODE"
   ]
  },
  {
   "cell_type": "code",
   "execution_count": 46,
   "metadata": {},
   "outputs": [
    {
     "name": "stdout",
     "output_type": "stream",
     "text": [
      "Enter one option from below\n",
      "1 for Leave Letter\n",
      "2 for Letter for other permission\n",
      "1\n",
      "\n",
      "Enter choice of permission from below permission for\n",
      "a.Half Day\n",
      "b.One Day\n",
      "c.More than a Day\n",
      "b\n",
      "Enter your name:\traja\n",
      "Enter your Branch and Section:\tcse-3a\n",
      "Enter college name:\tmrcet\n",
      "Enter your Reason:\n",
      "fever\n",
      "\n",
      "    From\n",
      "    raja\n",
      "    cse-3a\n",
      "    mrcet\n",
      "    \n",
      "    TO\n",
      "    The class Teacher\n",
      "    cse-3a\n",
      "    mrcet\n",
      "    \n",
      "    Dear Sir/Madam,\n",
      "            fever.\n",
      "Please accept my request and kindly grant leave for one day i.e 16-10-2021\n",
      "    \n",
      "    Thank you\n",
      "     \n",
      "    Yours Obediently,\n",
      "    \n",
      "    signature\n",
      "    16-10-2021\n",
      "    \n"
     ]
    }
   ],
   "source": [
    "import datetime\n",
    "today=\"-\".join(str(i) for i in [datetime.date.today().day,  datetime.date.today().month, datetime.date.today().year])\n",
    "def onedayletter():\n",
    "    name=input(\"Enter your name:\\t\")\n",
    "    clas=input(\"Enter your Branch and Section:\\t\")\n",
    "    college=input('Enter college name:\\t')\n",
    "    r=input(\"Enter your Reason:\\n\")\n",
    "    print(f'''\n",
    "    From\n",
    "    {name}\n",
    "    {clas}\n",
    "    {college}\n",
    "    \n",
    "    TO\n",
    "    The class Teacher\n",
    "    {clas}\n",
    "    {college}\n",
    "    \n",
    "    Dear Sir/Madam,\n",
    "            {r}.\\nPlease accept my request and kindly grant leave for one day i.e {today}\n",
    "    \n",
    "    Thank you\n",
    "     \n",
    "    Yours Obediently,\n",
    "    \n",
    "    signature\n",
    "    {today}\n",
    "    ''')\n",
    "print('Enter one option from below\\n1 for Leave Letter\\n2 for Letter for other permission')\n",
    "n= int(input())\n",
    "if(n==1):\n",
    "    print('\\nEnter choice of permission from below permission for\\na.Half Day\\nb.One Day\\nc.More than a Day')\n",
    "    t = input()\n",
    "    if(t=='b'):\n",
    "        onedayletter()\n",
    "    else:\n",
    "        print(\"Check again an enter a valid Input\")"
   ]
  },
  {
   "cell_type": "code",
   "execution_count": null,
   "metadata": {},
   "outputs": [],
   "source": []
  },
  {
   "cell_type": "markdown",
   "metadata": {},
   "source": [
    "# Yashaswini code 2"
   ]
  },
  {
   "cell_type": "code",
   "execution_count": 1,
   "metadata": {},
   "outputs": [
    {
     "name": "stdout",
     "output_type": "stream",
     "text": [
      "ur name?:\tRaja\n",
      "year of study(I/II/III/IV)?:\t2\n",
      "ur Branch:cse\n",
      "section:\ta\n",
      "ur rollno:\t537\n",
      "Whom r u writing this letter to?\tclass teacher\n",
      "choose which category ur reason falls:\n",
      "1 for sick leave\n",
      "2. attend ceremonies\n",
      "3. accidents\n",
      "1\n",
      "input ur reason(fever/cough):\tfever\n",
      "no. of days applying for?2\n",
      "\n",
      "        From\n",
      "        Raja\n",
      "        CSE\n",
      "        MRCET\n",
      "\n",
      "        TO\n",
      "        CLASS TEACHER\n",
      "        CSE\n",
      "        MRCET\n",
      "\n",
      "        Dear Sir/Madam,\n",
      "                I Raja studying in 2-CSE-A having roll number 537 am suffering from fever.\n",
      "        I will not be able to attend the classes for 2 days. Please accept this request and kindly grant me leave.\n",
      "\n",
      "        I am hopeful that you accept my request and sanction me the leaves. \n",
      "\n",
      "        Thanking you,\n",
      "        Yours Obediently,\n",
      "        Raja\n",
      "\n",
      "        signature\n",
      "        16-10-2021\n",
      "        \n"
     ]
    }
   ],
   "source": [
    "import datetime\n",
    "today=\"-\".join(str(i) for i in [datetime.date.today().day,  datetime.date.today().month, datetime.date.today().year])\n",
    "# print('Choose type of letter to be generated\\n1 for Leave Letter\\n2 for permission to attend/start an event at college')\n",
    "# n= int(input())\n",
    "\n",
    "def leaveletter():\n",
    "    name = input(\"ur name?:\\t\").capitalize()\n",
    "    year = input(\"year of study(I/II/III/IV)?:\\t\").upper()\n",
    "    clas = input(\"ur Branch:\").upper()\n",
    "    sec = input(\"section:\\t\").upper()\n",
    "    rollno = input(\"ur rollno:\\t\").upper()\n",
    "    letterTo = input(\"Whom r u writing this letter to?\\t\").upper()\n",
    "    r1=int(input(\"choose which category ur reason falls:\\n1 for sick leave\\n2. attend ceremonies\\n3. accidents\\n\"))\n",
    "    if r1 == 1:\n",
    "        r = input(\"input ur reason(fever/cough):\\t\")\n",
    "    elif r1 == 2:\n",
    "        r = input(\"input ur reason(sister's marriage/grandfather's death anniversary...):\\t\")\n",
    "#     elif r1 == 3:\n",
    "#         r = input(\"who met with accident and how?\")\n",
    "#         r2 = input(\"when and where did accident happen?\")\n",
    "    days = input(\"no. of days applying for?\")\n",
    "    if r1 == 1:\n",
    "        print(f'''\n",
    "        From\n",
    "        {name}\n",
    "        {clas}\n",
    "        MRCET\n",
    "\n",
    "        TO\n",
    "        {letterTo}\n",
    "        {clas}\n",
    "        MRCET\n",
    "\n",
    "        Dear Sir/Madam,\n",
    "                I {name} studying in {year}-{clas}-{sec} having roll number {rollno} am suffering from {r}.\n",
    "        I will not be able to attend the classes for {days} days. Please accept this request and kindly grant me leave.\\n\n",
    "        I am hopeful that you accept my request and sanction me the leaves. \n",
    "\n",
    "        Thanking you,\n",
    "        Yours Obediently,\n",
    "        {name}\n",
    "\n",
    "        signature\n",
    "        {today}\n",
    "        ''')\n",
    "    elif r1 == 2:\n",
    "        fromwhen = input(\"from which Date do u need leave?\")\n",
    "        print(f'''\n",
    "        From\n",
    "        {name}\n",
    "        {clas}\n",
    "        MRCET\n",
    "\n",
    "        TO\n",
    "        {letterTo}\n",
    "        {clas}\n",
    "        MRCET\n",
    "\n",
    "        Dear Sir/Madam,\n",
    "                I am {name} studying in {year}-{clas}-{sec} having roll number {rollno}.I need to attend my \n",
    "        {r} from {fromwhen} for {days} days. So, I will not be able to attend the classes for {days} days. \n",
    "        Please accept this request and kindly grant me leave.\\n\n",
    "        I am hopeful that you accept my request and sanction me the leaves. \n",
    "\n",
    "        Thanking you,\n",
    "        Yours Obediently,\n",
    "        {name}\n",
    "\n",
    "        signature\n",
    "        {today}\n",
    "        ''')\n",
    "# def permission():\n",
    "#     name = input(\"ur name?:\\t\").upper()\n",
    "#     year = input(\"year of study(I/II/III/IV)?:\\t\").upper()\n",
    "#     clas = input(\"ur Branch and Section?:\\t\").upper()\n",
    "#     letterTo = input(\"Whom r u writing this letter to?\\t\").upper()\n",
    "#     r1=int(input(\"choose which category ur reason falls:\\n1. start a club\\n2. attend workshop\\n3. internship\\n4.other \\n\"))\n",
    "#     if r1 == 4:\n",
    "#         r1=input(\"Enter ur reason:\")\n",
    "#     d = input(\"Enter no. of days\")\n",
    "#     print(f'''\n",
    "#     From\n",
    "#     {name}\n",
    "#     {clas}\n",
    "#     MRCET\n",
    "    \n",
    "#     TO\n",
    "#     {letterTo}\n",
    "#     {clas}\n",
    "#     MRCET\n",
    "    \n",
    "#     Dear Sir/Madam,\n",
    "#             {r1}.\\n\n",
    "#         Please acce\n",
    "    \n",
    "#     Thank you\n",
    "     \n",
    "#     Yours Obediently,\n",
    "    \n",
    "#     signature\n",
    "#     {today}\n",
    "#     ''')\n",
    "# if n == 1:\n",
    "#     leaveletter()\n",
    "# elif n == 2:\n",
    "#     permission()\n",
    "leaveletter()\n",
    "# else:\n",
    "#     print(\"Check again and enter a valid Input\")"
   ]
  },
  {
   "cell_type": "code",
   "execution_count": null,
   "metadata": {},
   "outputs": [],
   "source": []
  },
  {
   "cell_type": "markdown",
   "metadata": {},
   "source": [
    "# sai code"
   ]
  },
  {
   "cell_type": "code",
   "execution_count": null,
   "metadata": {},
   "outputs": [],
   "source": [
    "def mtodletter():\n",
    "    name=input(\"\\nEnter your name:\\t\")\n",
    "    clas=input(\"\\nEnter your Branch and Section:\\t\")\n",
    "    #college=input('\\nEnter college name:\\t')\n",
    "    date_entry = input('\\nEnter a date in YYYY-MM-DD format :\\t')\n",
    "    year, month, day = map(int, date_entry.split('-'))\n",
    "    start = datetime.date(year, month, day)\n",
    "    n = int(input(\"\\nEnter no:of days :\\t\"))\n",
    "    end = start + timedelta(days=n)\n",
    "    r=input(\"\\nEnter your Reason:\\n\")\n",
    "    print(f'''\n",
    "    From\n",
    "    {name}\n",
    "    {clas.upper()}\n",
    "    \n",
    "    \n",
    "    To\n",
    "    The Class Teacher,\n",
    "    {clas.upper()}\n",
    "    \n",
    "    \n",
    "    Dear Sir/Madam,\n",
    "            {r}.\\nPlease accept my request and kindly grant leave for {n} days.\n",
    "                 Please excuse my absence from {start} to {end} .\n",
    "    \n",
    "\n",
    "\n",
    "\n",
    "\n",
    "    Thank you.\n",
    "     \n",
    "\n",
    "    Yours Obediently,\n",
    "    \n",
    "\n",
    "     sign\n",
    "    {today}\n",
    "    ''')"
   ]
  }
 ],
 "metadata": {
  "kernelspec": {
   "display_name": "Python 3",
   "language": "python",
   "name": "python3"
  },
  "language_info": {
   "codemirror_mode": {
    "name": "ipython",
    "version": 3
   },
   "file_extension": ".py",
   "mimetype": "text/x-python",
   "name": "python",
   "nbconvert_exporter": "python",
   "pygments_lexer": "ipython3",
   "version": "3.8.5"
  }
 },
 "nbformat": 4,
 "nbformat_minor": 4
}
