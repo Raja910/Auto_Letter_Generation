{
 "cells": [
  {
   "cell_type": "markdown",
   "metadata": {},
   "source": [
    "# Final code"
   ]
  },
  {
   "cell_type": "code",
   "execution_count": 1,
   "metadata": {},
   "outputs": [
    {
     "name": "stdout",
     "output_type": "stream",
     "text": [
      "Enter\n",
      "'1/2' For halfday Leave\n",
      "'1' for Oneday Leave\n",
      "How many no.of days leave required:\n",
      "1\n",
      "Enter your name:\tRaja\n",
      "Enter branch-year section(example:CSE-3A):\tcse-3a\n",
      "enter date of leave in format dd-mm-yyyy:\t10-07-2022\n",
      "to whom Letter is written:\tHOD\n",
      "Enter Reason in sentence:\tfever\n",
      "Letter is saved in Desktop with file name of 'Letter7gx'\n"
     ]
    }
   ],
   "source": [
    "import datetime\n",
    "import docx\n",
    "import string,random\n",
    "letno=''.join(random.sample(string.digits,1)+random.sample(string.ascii_letters,2))\n",
    "from docx.shared import Pt\n",
    "doc= docx.Document()\n",
    "doc.add_heading('                            Letter',0)\n",
    "today=\"-\".join(str(i) for i in [datetime.date.today().day,  datetime.date.today().month, datetime.date.today().year])\n",
    "\n",
    "def hod(p):\n",
    "    ndl=p\n",
    "    name=input('Enter your name:\\t').capitalize()\n",
    "    cls=input(\"Enter branch-year section(example:CSE-3A):\\t\").upper()\n",
    "    date=input('enter date of leave in format dd-mm-yyyy:\\t')\n",
    "    to=input('to whom Letter is written:\\t').upper()\n",
    "    Reason=input('Enter Reason in sentence:\\t').capitalize()\n",
    "    return f'''\n",
    "    To\n",
    "    {to}\n",
    "    {cls}\n",
    "    MRCET\n",
    "    \n",
    "    Dear Sir/Madam;\n",
    "                I am {name} from {cls}. The reason for this letter is than I need a permission for leave  {ndl} day because {Reason}.I will not be able to attend classes on {date}. So, please accept my request and kindly grant me permission.\n",
    "\n",
    "    Thanking you,\n",
    "    Yours Obediently,\n",
    "    {name}\n",
    "\n",
    "\n",
    "    signature\n",
    "    {today}'''\n",
    "    \n",
    "    \n",
    "    \n",
    "def mod(p):\n",
    "    ndl=p\n",
    "    name=input('Enter your name:\\t').capitalize()\n",
    "    cls=input(\"Enter branch-year section(example:CSE-3A):\\t\").upper()\n",
    "    sd=input('enter date from when leave is required in format dd-mm-yyyy:\\t')\n",
    "    k=[int(i) for i in sd.split('-')]\n",
    "    ed=\"-\".join([str(k.pop(0)+int(ndl))]+[str(i) for i in k])\n",
    "    to=input('to whom Letter is written:\\t').upper()\n",
    "    Reason=input('Enter Reason in sentence:\\t').capitalize()\n",
    "    return f'''\n",
    "        TO\n",
    "        {to}\n",
    "        {cls}\n",
    "        MRCET\n",
    "        \n",
    "        Dear sir/Madam;\n",
    "                I am {name} from {cls}. The reason for this letter is than I need a permission for leave for {ndl} days because {Reason}. I will not be able to attend classes from {sd} to {ed}. So, please accept my request an kindly grant me permission.\n",
    "        Thanking you,\n",
    "        Your Obediently,\n",
    "        {name}\n",
    "\n",
    "\n",
    "        signature\n",
    "        {today}'''\n",
    "    \n",
    "    \n",
    "    \n",
    "ndl=input(\"Enter\\n'1/2' For halfday Leave\\n'1' for Oneday Leave\\nHow many no.of days leave required:\\n\")\n",
    "if (ndl=='1/2'or'1'):\n",
    "    #c1=handod(ndl)\n",
    "    m=hod(ndl)\n",
    "elif int(ndl) in [*range(2,31)]:\n",
    "    m=mod(ndl)\n",
    "else:\n",
    "    print(\"Plz Check inputs according to instructions and Enter again\")\n",
    "    \n",
    "par = doc.add_paragraph().add_run(m)  \n",
    "par.font.size=Pt(20)\n",
    "doc.save(f'''C:\\\\Users\\ASUS\\Desktop\\Letter{letno}.docx''')\n",
    "print(f\"Letter is saved in Desktop with file name of 'Letter{letno}'\")"
   ]
  },
  {
   "cell_type": "code",
   "execution_count": 2,
   "metadata": {},
   "outputs": [
    {
     "data": {
      "text/plain": [
       "'26-10-2021'"
      ]
     },
     "execution_count": 2,
     "metadata": {},
     "output_type": "execute_result"
    }
   ],
   "source": [
    "k=[int(i) for i in '22-10-2021'.split('-')]\n",
    "\"-\".join([str(k.pop(0)+4)]+[str(i) for i in k])"
   ]
  },
  {
   "cell_type": "code",
   "execution_count": null,
   "metadata": {},
   "outputs": [],
   "source": []
  },
  {
   "cell_type": "code",
   "execution_count": 3,
   "metadata": {},
   "outputs": [
    {
     "data": {
      "text/plain": [
       "True"
      ]
     },
     "execution_count": 3,
     "metadata": {},
     "output_type": "execute_result"
    }
   ],
   "source": [
    "3 in [*range(2,101)]"
   ]
  },
  {
   "cell_type": "code",
   "execution_count": 4,
   "metadata": {},
   "outputs": [
    {
     "data": {
      "text/plain": [
       "10"
      ]
     },
     "execution_count": 4,
     "metadata": {},
     "output_type": "execute_result"
    }
   ],
   "source": [
    "k.pop(0)"
   ]
  },
  {
   "cell_type": "code",
   "execution_count": 5,
   "metadata": {},
   "outputs": [
    {
     "data": {
      "text/plain": [
       "270400"
      ]
     },
     "execution_count": 5,
     "metadata": {},
     "output_type": "execute_result"
    }
   ],
   "source": [
    "52*52*10*10"
   ]
  },
  {
   "cell_type": "code",
   "execution_count": 6,
   "metadata": {},
   "outputs": [
    {
     "data": {
      "text/plain": [
       "'CSE-3A'"
      ]
     },
     "execution_count": 6,
     "metadata": {},
     "output_type": "execute_result"
    }
   ],
   "source": [
    "import string\n",
    "'cse-3a'.upper()"
   ]
  },
  {
   "cell_type": "code",
   "execution_count": null,
   "metadata": {},
   "outputs": [],
   "source": []
  },
  {
   "cell_type": "code",
   "execution_count": null,
   "metadata": {},
   "outputs": [],
   "source": []
  }
 ],
 "metadata": {
  "kernelspec": {
   "display_name": "Python 3",
   "language": "python",
   "name": "python3"
  },
  "language_info": {
   "codemirror_mode": {
    "name": "ipython",
    "version": 3
   },
   "file_extension": ".py",
   "mimetype": "text/x-python",
   "name": "python",
   "nbconvert_exporter": "python",
   "pygments_lexer": "ipython3",
   "version": "3.8.5"
  }
 },
 "nbformat": 4,
 "nbformat_minor": 4
}
